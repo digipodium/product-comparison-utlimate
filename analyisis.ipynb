{
 "nbformat": 4,
 "nbformat_minor": 2,
 "metadata": {
  "language_info": {
   "name": "python",
   "codemirror_mode": {
    "name": "ipython",
    "version": 3
   },
   "version": "3.7.4-final"
  },
  "orig_nbformat": 2,
  "file_extension": ".py",
  "mimetype": "text/x-python",
  "name": "python",
  "npconvert_exporter": "python",
  "pygments_lexer": "ipython3",
  "version": 3,
  "kernelspec": {
   "name": "python3",
   "display_name": "Python 3"
  }
 },
 "cells": [
  {
   "cell_type": "code",
   "execution_count": 1,
   "metadata": {},
   "outputs": [],
   "source": [
    "import pandas as pd\n",
    "import numpy as np\n",
    "import plotly.express as px\n",
    "import re"
   ]
  },
  {
   "cell_type": "code",
   "execution_count": 2,
   "metadata": {},
   "outputs": [],
   "source": [
    "df = pd.read_csv('dataset_laptops.csv',index_col=0)"
   ]
  },
  {
   "cell_type": "code",
   "execution_count": 3,
   "metadata": {},
   "outputs": [
    {
     "output_type": "stream",
     "name": "stdout",
     "text": "<class 'pandas.core.frame.DataFrame'>\nInt64Index: 98 entries, 0 to 97\nData columns (total 7 columns):\nname             98 non-null object\nprice            98 non-null object\nrating           32 non-null object\nphoto            98 non-null object\ntotal_reviews    20 non-null object\ntotal_rating     32 non-null object\nlink             98 non-null object\ndtypes: object(7)\nmemory usage: 6.1+ KB\n"
    }
   ],
   "source": [
    "df.info()"
   ]
  },
  {
   "cell_type": "code",
   "execution_count": 77,
   "metadata": {},
   "outputs": [
    {
     "output_type": "execute_result",
     "data": {
      "text/plain": "                                                name  price rating  \\\n0  HP 15 Di0006TU 15.6-inch Laptop (8th Gen i3-81...  32149    NaN   \n1  ASUS VivoBook 15 X509 ( Core i3- 7th Gen/4 GB/...  30990  (3.5)   \n2  Dell Inspiron 3567 Notebook (6th Gen Intel Cor...  28990  (3.5)   \n3  Dell Vostro 3581 (Core i3-7th Gen/4 GB RAM/1 T...  28100  (4.8)   \n4  ASUS VivoBook 15 X509 ( Core i3- 7th Gen/4 GB/...  29490  (4.0)   \n\n                                               photo  total_reviews  \\\n0  https://n4.sdlcdn.com/imgs/j/b/a/HP-15-Di0006T...            NaN   \n1  https://n2.sdlcdn.com/imgs/i/6/h/ASUS-VivoBook...            NaN   \n2  https://n3.sdlcdn.com/imgs/g/8/x/81M_QrtU30L__...  \\n7 Reviews\\n   \n3  https://n2.sdlcdn.com/imgs/i/3/9/Dell-Vostro-3...            NaN   \n4  https://n4.sdlcdn.com/imgs/i/5/5/ASUS-VivoBook...            NaN   \n\n  total_rating                                               link  \n0          NaN  https://www.snapdeal.com/product/hp-15-di0006t...  \n1    2 Ratings  https://www.snapdeal.com/product/asus-vivobook...  \n2   40 Ratings  https://www.snapdeal.com/product/dell-inspiron...  \n3    4 Ratings  https://www.snapdeal.com/product/dell-vostro-3...  \n4     1 Rating  https://www.snapdeal.com/product/asus-vivobook...  ",
      "text/html": "<div>\n<style scoped>\n    .dataframe tbody tr th:only-of-type {\n        vertical-align: middle;\n    }\n\n    .dataframe tbody tr th {\n        vertical-align: top;\n    }\n\n    .dataframe thead th {\n        text-align: right;\n    }\n</style>\n<table border=\"1\" class=\"dataframe\">\n  <thead>\n    <tr style=\"text-align: right;\">\n      <th></th>\n      <th>name</th>\n      <th>price</th>\n      <th>rating</th>\n      <th>photo</th>\n      <th>total_reviews</th>\n      <th>total_rating</th>\n      <th>link</th>\n    </tr>\n  </thead>\n  <tbody>\n    <tr>\n      <td>0</td>\n      <td>HP 15 Di0006TU 15.6-inch Laptop (8th Gen i3-81...</td>\n      <td>32149</td>\n      <td>NaN</td>\n      <td>https://n4.sdlcdn.com/imgs/j/b/a/HP-15-Di0006T...</td>\n      <td>NaN</td>\n      <td>NaN</td>\n      <td>https://www.snapdeal.com/product/hp-15-di0006t...</td>\n    </tr>\n    <tr>\n      <td>1</td>\n      <td>ASUS VivoBook 15 X509 ( Core i3- 7th Gen/4 GB/...</td>\n      <td>30990</td>\n      <td>(3.5)</td>\n      <td>https://n2.sdlcdn.com/imgs/i/6/h/ASUS-VivoBook...</td>\n      <td>NaN</td>\n      <td>2 Ratings</td>\n      <td>https://www.snapdeal.com/product/asus-vivobook...</td>\n    </tr>\n    <tr>\n      <td>2</td>\n      <td>Dell Inspiron 3567 Notebook (6th Gen Intel Cor...</td>\n      <td>28990</td>\n      <td>(3.5)</td>\n      <td>https://n3.sdlcdn.com/imgs/g/8/x/81M_QrtU30L__...</td>\n      <td>\\n7 Reviews\\n</td>\n      <td>40 Ratings</td>\n      <td>https://www.snapdeal.com/product/dell-inspiron...</td>\n    </tr>\n    <tr>\n      <td>3</td>\n      <td>Dell Vostro 3581 (Core i3-7th Gen/4 GB RAM/1 T...</td>\n      <td>28100</td>\n      <td>(4.8)</td>\n      <td>https://n2.sdlcdn.com/imgs/i/3/9/Dell-Vostro-3...</td>\n      <td>NaN</td>\n      <td>4 Ratings</td>\n      <td>https://www.snapdeal.com/product/dell-vostro-3...</td>\n    </tr>\n    <tr>\n      <td>4</td>\n      <td>ASUS VivoBook 15 X509 ( Core i3- 7th Gen/4 GB/...</td>\n      <td>29490</td>\n      <td>(4.0)</td>\n      <td>https://n4.sdlcdn.com/imgs/i/5/5/ASUS-VivoBook...</td>\n      <td>NaN</td>\n      <td>1 Rating</td>\n      <td>https://www.snapdeal.com/product/asus-vivobook...</td>\n    </tr>\n  </tbody>\n</table>\n</div>"
     },
     "metadata": {},
     "execution_count": 77
    }
   ],
   "source": [
    "df.head()"
   ]
  },
  {
   "cell_type": "code",
   "execution_count": 78,
   "metadata": {},
   "outputs": [
    {
     "output_type": "stream",
     "name": "stdout",
     "text": "<class 'pandas.core.frame.DataFrame'>\nInt64Index: 496 entries, 0 to 495\nData columns (total 7 columns):\nname             496 non-null object\nprice            496 non-null object\nrating           85 non-null object\nphoto            496 non-null object\ntotal_reviews    57 non-null object\ntotal_rating     85 non-null object\nlink             496 non-null object\ndtypes: object(7)\nmemory usage: 31.0+ KB\n"
    }
   ],
   "source": [
    "df.info()"
   ]
  },
  {
   "cell_type": "code",
   "execution_count": 80,
   "metadata": {},
   "outputs": [],
   "source": [
    "def clean_review(val):\n",
    "    if val!=val:\n",
    "        return np.nan\n",
    "    elif bool(re.search(r'\\d', val)):\n",
    "        numbers = re.findall('\\d+',val)\n",
    "        numbers = int(\"\".join(numbers))\n",
    "        return  numbers\n",
    "    else:\n",
    "        return val"
   ]
  }
 ]
}